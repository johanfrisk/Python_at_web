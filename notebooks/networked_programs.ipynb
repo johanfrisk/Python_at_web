{
 "cells": [
  {
   "cell_type": "markdown",
   "metadata": {},
   "source": [
    "# These are my notes on networked programs"
   ]
  },
  {
   "cell_type": "code",
   "execution_count": 43,
   "metadata": {
    "collapsed": true
   },
   "outputs": [],
   "source": [
    "# Python built in support for TCP sockets\n",
    "import socket\n",
    "\n",
    "# this just opens a 'porthole' out from my computer\n",
    "mysock = socket.socket(socket.AF_INET, socket.SOCK_STREAM)\n",
    "\n",
    "# this connects me to the other computer\n",
    "mysock.connect(('www.py4inf.com', 80))"
   ]
  },
  {
   "cell_type": "markdown",
   "metadata": {},
   "source": [
    "## Now let's write a browser \n",
    "**(the request response cycle)**\n",
    "\n",
    "1. Make a connection (a socket)\n",
    "2. Send a request\n",
    "3. Receive a response\n",
    "4. Display that response"
   ]
  },
  {
   "cell_type": "code",
   "execution_count": 63,
   "metadata": {
    "collapsed": false
   },
   "outputs": [
    {
     "name": "stdout",
     "output_type": "stream",
     "text": [
      "b'HTTP/1.1 404 Not Found\\r\\nServer: nginx\\r\\nDate: Thu, 11 May 2017 19:18:52 GMT\\r\\nContent-Type: text/html\\r\\nContent-Length: 162\\r\\nConnection: close\\r\\n\\r\\n<html>\\r\\n<head><title>404 Not Found</title></head>\\r\\n<body bgcolor=\"white\">\\r\\n<center><h1>404 Not Found</h1></center>\\r\\n<hr><center>nginx</center>\\r\\n</body>\\r\\n</html>\\r\\n'\n"
     ]
    }
   ],
   "source": [
    "import socket\n",
    "\n",
    "mysock = socket.socket(socket.AF_INET, socket.SOCK_STREAM)\n",
    "mysock.connect(('www.py4inf.com', 80))\n",
    "mysock.send(b'GET http://www.py4inf.com/code/romeo.txt HTTP/1.0\\n\\n')\n",
    "\n",
    "while True:\n",
    "    data = mysock.recv(512)\n",
    "    if ( len(data) < 1 ) :\n",
    "        break\n",
    "    print(data);\n",
    "\n",
    "mysock.close()"
   ]
  },
  {
   "cell_type": "code",
   "execution_count": 55,
   "metadata": {
    "collapsed": false
   },
   "outputs": [
    {
     "name": "stdout",
     "output_type": "stream",
     "text": [
      "b'HTTP/1.1 404 Not Found\\r\\nServer: nginx\\r\\nDate: Thu, 11 May 2017 18:36:42 GMT\\r\\nContent-Type: text/html\\r\\nContent-Length: 162\\r\\nConnection: close\\r\\n\\r\\n<html>\\r\\n<head><title>404 Not Found</title></head>\\r\\n<body bgcolor=\"white\">\\r\\n<center><h1>404 Not Found</h1></center>\\r\\n<hr><center>nginx</center>\\r\\n</body>\\r\\n</html>\\r\\n'\n"
     ]
    }
   ],
   "source": [
    "import socket\n",
    "\n",
    "mysock = socket.socket(socket.AF_INET, socket.SOCK_STREAM)\n",
    "mysock.connect(('www.py4inf.com', 80))\n",
    "\n",
    "# since I need to send bytes and not a string... I add a 'b' literal before the GET\n",
    "mysock.send(b'GET http://www.py4inf.com/code/romeo.txt HTTP/1.0\\n\\n')\n",
    "\n",
    "while True:\n",
    "    data = mysock.recv(512)\n",
    "    if ( len(data) < 1 ) :\n",
    "        break\n",
    "    print(data);\n",
    "\n",
    "mysock.close()"
   ]
  },
  {
   "cell_type": "markdown",
   "metadata": {},
   "source": [
    "## Now make the same thing easier with another library\n",
    "urllib - knows about the GET, the headers, the blank lines, port 80 and all the rest\n",
    "This is similar to the code in the course but for Python 3"
   ]
  },
  {
   "cell_type": "code",
   "execution_count": 29,
   "metadata": {
    "collapsed": false
   },
   "outputs": [
    {
     "name": "stdout",
     "output_type": "stream",
     "text": [
      "fhand_html\n"
     ]
    }
   ],
   "source": [
    "import urllib.request\n",
    "\n",
    "fhand = urllib.request.urlopen('http://www.py4inf.com/code/romeo.txt')\n",
    "\n",
    "# the response needs to be translated to html using read()\n",
    "fhand_html = fhand.read()\n",
    "\n",
    "print(fhand_html)"
   ]
  },
  {
   "cell_type": "code",
   "execution_count": 38,
   "metadata": {
    "collapsed": false
   },
   "outputs": [
    {
     "name": "stdout",
     "output_type": "stream",
     "text": [
      "b'But soft what light through yonder window breaks\\nIt is the east and Juliet is the sun\\nArise fair sun and kill the envious moon\\nWho is already sick and pale with grief\\n'\n"
     ]
    }
   ],
   "source": [
    "# a nicer version of the code...\n",
    "\n",
    "import urllib.request\n",
    "\n",
    "with urllib.request.urlopen('http://www.py4inf.com/code/romeo.txt') as response:\n",
    "    fhand_html = response.read()\n",
    "    #fhand_html = response.readline()\n",
    "    #fhand_html = response.readlines()\n",
    "    \n",
    "print(fhand_html)\n",
    "    \n",
    "# read() - will store the response as a string\n",
    "# readline() - will store only the first line as a string\n",
    "# readlines() - will store the response as a list"
   ]
  },
  {
   "cell_type": "markdown",
   "metadata": {},
   "source": [
    "## Doing the assignment:"
   ]
  },
  {
   "cell_type": "code",
   "execution_count": 70,
   "metadata": {
    "collapsed": false
   },
   "outputs": [
    {
     "name": "stdout",
     "output_type": "stream",
     "text": [
      "RESPONSE: <http.client.HTTPResponse object at 0x7f56a36f4978>\n",
      "URL     : http://data.pr4e.org/intro-short.txt\n",
      "DATE    : Thu, 11 May 2017 19:24:25 GMT\n",
      "HEADERS :\n",
      "---------\n",
      "Content-Type: text/plain\n",
      "Content-Length: 467\n",
      "Connection: close\n",
      "Date: Thu, 11 May 2017 19:24:25 GMT\n",
      "Server: Apache\n",
      "Last-Modified: Sat, 24 Sep 2016 20:36:08 GMT\n",
      "ETag: \"1d3-53d46d841582a\"\n",
      "Accept-Ranges: bytes\n",
      "\n",
      "\n",
      "LENGTH  : 467\n",
      "DATA    :\n",
      "---------\n",
      "Why should you learn to write programs?\n",
      "\n",
      "Writing programs (or programming) is a very creative \n",
      "and rewarding activity.  You can write programs for \n",
      "many reasons, ranging from making your living to solving\n",
      "a difficult data analysis problem to having fun to helping\n",
      "someone else solve a problem.  This book assumes that \n",
      "everyone needs to know how to program, and that once \n",
      "you know how to program you will figure out what you want \n",
      "to do with your newfound skills.  \n",
      "\n"
     ]
    }
   ],
   "source": [
    "# https://pymotw.com/3/urllib.request/\n",
    "\n",
    "from urllib import request\n",
    "URL = 'http://data.pr4e.org/intro-short.txt'\n",
    "\n",
    "response = request.urlopen(URL)\n",
    "print('RESPONSE:', response)\n",
    "print('URL     :', response.geturl())\n",
    "\n",
    "headers = response.info()\n",
    "print('DATE    :', headers['date'])\n",
    "print('HEADERS :')\n",
    "print('---------')\n",
    "print(headers)\n",
    "\n",
    "data = response.read().decode('utf-8')\n",
    "print('LENGTH  :', len(data))\n",
    "print('DATA    :')\n",
    "print('---------')\n",
    "print(data)"
   ]
  },
  {
   "cell_type": "code",
   "execution_count": 68,
   "metadata": {
    "collapsed": false
   },
   "outputs": [
    {
     "name": "stdout",
     "output_type": "stream",
     "text": [
      "Bingo\n"
     ]
    }
   ],
   "source": [
    "# getting the response code, with error handling\n",
    "\n",
    "import urllib.request\n",
    "URL = 'http://data.pr4e.org/intro-short.txt'\n",
    "\n",
    "try:\n",
    "    response = urllib.request.urlopen(URL)\n",
    "    if response.getcode() == 200:\n",
    "        print('Bingo')\n",
    "    else:\n",
    "        print('The response code was not 200, but: {}'.format(\n",
    "            response.get_code()))\n",
    "except urllib.error.HTTPError as e:\n",
    "    print('''An error occurred: {}\n",
    "The response code was {}'''.format(e, e.getcode()))"
   ]
  },
  {
   "cell_type": "code",
   "execution_count": null,
   "metadata": {
    "collapsed": true
   },
   "outputs": [],
   "source": []
  }
 ],
 "metadata": {
  "kernelspec": {
   "display_name": "Python 3",
   "language": "python",
   "name": "python3"
  },
  "language_info": {
   "codemirror_mode": {
    "name": "ipython",
    "version": 3
   },
   "file_extension": ".py",
   "mimetype": "text/x-python",
   "name": "python",
   "nbconvert_exporter": "python",
   "pygments_lexer": "ipython3",
   "version": "3.6.0"
  }
 },
 "nbformat": 4,
 "nbformat_minor": 2
}
