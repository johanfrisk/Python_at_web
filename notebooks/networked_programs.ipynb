{
 "cells": [
  {
   "cell_type": "markdown",
   "metadata": {},
   "source": [
    "# These are my notes on networked programs"
   ]
  },
  {
   "cell_type": "code",
   "execution_count": 5,
   "metadata": {
    "collapsed": true
   },
   "outputs": [],
   "source": [
    "# Python built in support for TCP sockets\n",
    "import socket\n",
    "\n",
    "# this just opens a 'porthole' out from my computer\n",
    "mysock = socket.socket(socket.AF_INET, socket.SOCK_STREAM)\n",
    "\n",
    "# this connects me to the other computer\n",
    "mysock.connect(('www.py4inf.com', 80))"
   ]
  },
  {
   "cell_type": "markdown",
   "metadata": {},
   "source": [
    "## Now let's write a brower \n",
    "**(the request response cycle)**\n",
    "\n",
    "1. Make a connection (a socket)\n",
    "2. Send a request\n",
    "3. Receive a response\n",
    "4. Display that response"
   ]
  },
  {
   "cell_type": "code",
   "execution_count": 14,
   "metadata": {
    "collapsed": false
   },
   "outputs": [
    {
     "name": "stdout",
     "output_type": "stream",
     "text": [
      "b'HTTP/1.1 200 OK\\r\\nContent-Type: text/plain\\r\\nContent-Length: 167\\r\\nConnection: close\\r\\nDate: Tue, 09 May 2017 06:57:30 GMT\\r\\nServer: Apache\\r\\nLast-Modified: Fri, 04 Dec 2015 19:05:04 GMT\\r\\nETag: \"a7-526172f5b5d89\"\\r\\nAccept-Ranges: bytes\\r\\nCache-Control: max-age=604800, public\\r\\nAccess-Control-Allow-Origin: *\\r\\nAccess-Control-Allow-Headers: origin, x-requested-with, content-type\\r\\nAccess-Control-Allow-Methods: GET\\r\\n\\r\\nBut soft what light through yonder window breaks\\nIt is the east and Juliet is the sun\\nArise fair sun and'\n",
      "b' kill the envious moon\\nWho is already sick and pale with grief\\n'\n"
     ]
    }
   ],
   "source": [
    "import socket\n",
    "\n",
    "mysock = socket.socket(socket.AF_INET, socket.SOCK_STREAM)\n",
    "mysock.connect(('www.py4inf.com', 80))\n",
    "\n",
    "# since I need to send bytes and not a string... I add a 'b' literal before the GET\n",
    "mysock.send(b'GET http://www.py4inf.com/code/romeo.txt HTTP/1.0\\n\\n')\n",
    "\n",
    "while True:\n",
    "    data = mysock.recv(512)\n",
    "    if ( len(data) < 1 ) :\n",
    "        break\n",
    "    print(data);\n",
    "\n",
    "mysock.close()"
   ]
  },
  {
   "cell_type": "markdown",
   "metadata": {},
   "source": [
    "## Now make the same thing easier with another library\n",
    "urllib - knows about the GET, the headers, the blank lines, port 80 and all the rest\n",
    "This is similar to the code in the course but for Python 3"
   ]
  },
  {
   "cell_type": "code",
   "execution_count": 29,
   "metadata": {
    "collapsed": false
   },
   "outputs": [
    {
     "name": "stdout",
     "output_type": "stream",
     "text": [
      "fhand_html\n"
     ]
    }
   ],
   "source": [
    "import urllib.request\n",
    "\n",
    "fhand = urllib.request.urlopen('http://www.py4inf.com/code/romeo.txt')\n",
    "\n",
    "# the response needs to be translated to html using read()\n",
    "fhand_html = fhand.read()\n",
    "\n",
    "print(fhand_html)"
   ]
  },
  {
   "cell_type": "code",
   "execution_count": 37,
   "metadata": {
    "collapsed": false
   },
   "outputs": [
    {
     "name": "stdout",
     "output_type": "stream",
     "text": [
      "b'But soft what light through yonder window breaks\\nIt is the east and Juliet is the sun\\nArise fair sun and kill the envious moon\\nWho is already sick and pale with grief\\n'\n"
     ]
    }
   ],
   "source": [
    "# a nicer version of the code...\n",
    "\n",
    "import urllib.request\n",
    "\n",
    "with urllib.request.urlopen('http://www.py4inf.com/code/romeo.txt') as response:\n",
    "    fhand_html = response.read()\n",
    "    #fhand_html = response.readline()\n",
    "    #fhand_html = response.readlines()\n",
    "    \n",
    "print(fhand_html)\n",
    "    \n",
    "# read() - will store the response as a string\n",
    "# readline() - will store only the first line as a string\n",
    "# readlines() - will store the response as a list"
   ]
  },
  {
   "cell_type": "code",
   "execution_count": null,
   "metadata": {
    "collapsed": true
   },
   "outputs": [],
   "source": []
  },
  {
   "cell_type": "code",
   "execution_count": null,
   "metadata": {
    "collapsed": true
   },
   "outputs": [],
   "source": []
  },
  {
   "cell_type": "code",
   "execution_count": null,
   "metadata": {
    "collapsed": true
   },
   "outputs": [],
   "source": []
  },
  {
   "cell_type": "code",
   "execution_count": null,
   "metadata": {
    "collapsed": true
   },
   "outputs": [],
   "source": []
  }
 ],
 "metadata": {
  "kernelspec": {
   "display_name": "Python 3",
   "language": "python",
   "name": "python3"
  },
  "language_info": {
   "codemirror_mode": {
    "name": "ipython",
    "version": 3
   },
   "file_extension": ".py",
   "mimetype": "text/x-python",
   "name": "python",
   "nbconvert_exporter": "python",
   "pygments_lexer": "ipython3",
   "version": "3.6.0"
  }
 },
 "nbformat": 4,
 "nbformat_minor": 2
}
