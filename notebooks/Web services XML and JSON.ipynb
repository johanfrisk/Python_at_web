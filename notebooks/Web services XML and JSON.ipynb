{
 "cells": [
  {
   "cell_type": "markdown",
   "metadata": {},
   "source": [
    "# Working with XML"
   ]
  },
  {
   "cell_type": "code",
   "execution_count": 1,
   "metadata": {
    "collapsed": false
   },
   "outputs": [
    {
     "name": "stdout",
     "output_type": "stream",
     "text": [
      "Name: Chuck\n",
      "Attr: yes\n"
     ]
    }
   ],
   "source": [
    "# xml1.py\n",
    "# the triple quotes puts the xml data as a string\n",
    "\n",
    "import xml.etree.ElementTree as ET\n",
    "\n",
    "data = '''\n",
    "<person>\n",
    "  <name>Chuck</name>\n",
    "  <phone type=\"intl\">\n",
    "     +1 734 303 4456\n",
    "   </phone>\n",
    "   <email hide=\"yes\"/>\n",
    "</person>'''\n",
    "\n",
    "tree = ET.fromstring(data)\n",
    "print('Name:',tree.find('name').text)\n",
    "print('Attr:',tree.find('email').get('hide'))"
   ]
  },
  {
   "cell_type": "code",
   "execution_count": 2,
   "metadata": {
    "collapsed": false
   },
   "outputs": [
    {
     "name": "stdout",
     "output_type": "stream",
     "text": [
      "User count: 2\n",
      "Name Chuck\n",
      "Id 001\n",
      "Attribute 2\n",
      "Name Brent\n",
      "Id 009\n",
      "Attribute 7\n"
     ]
    }
   ],
   "source": [
    "# xml2.py\n",
    "# this one is more complicated since the are more complex tags\n",
    "\n",
    "import xml.etree.ElementTree as ET\n",
    "\n",
    "input = '''\n",
    "<stuff>\n",
    "    <users>\n",
    "        <user x=\"2\">\n",
    "            <id>001</id>\n",
    "            <name>Chuck</name>\n",
    "        </user>\n",
    "        <user x=\"7\">\n",
    "            <id>009</id>\n",
    "            <name>Brent</name>\n",
    "            </user>\n",
    "        </users>\n",
    "</stuff>'''\n",
    "\n",
    "stuff = ET.fromstring(input)\n",
    "lst = stuff.findall('users/user')\n",
    "print('User count:', len(lst))\n",
    "\n",
    "for item in lst:\n",
    "    print('Name', item.find('name').text)\n",
    "    print('Id', item.find('id').text)\n",
    "    print('Attribute', item.get(\"x\"))\n"
   ]
  },
  {
   "cell_type": "markdown",
   "metadata": {},
   "source": [
    "## Doing assignment 1\n",
    "This is an exercise in XML"
   ]
  },
  {
   "cell_type": "code",
   "execution_count": 3,
   "metadata": {
    "collapsed": false
   },
   "outputs": [
    {
     "name": "stdout",
     "output_type": "stream",
     "text": [
      "2553\n"
     ]
    }
   ],
   "source": [
    "# http://www.saltycrane.com/blog/2011/07/example-parsing-xml-lxml-objectify/\n",
    "\n",
    "import pandas as pd\n",
    "from lxml import etree, objectify\n",
    "\n",
    "URL = 'http://python-data.dr-chuck.net/comments_42.xml'\n",
    "URL_real = 'http://python-data.dr-chuck.net/comments_371511.xml'\n",
    "\n",
    "tree = etree.parse(URL)\n",
    "string =  etree.tostring(tree.getroot())\n",
    "root = objectify.fromstring(string)\n",
    "\n",
    "values = []\n",
    "for leaf in root.comments.comment:\n",
    "    #print(e.count.text)\n",
    "    values.append(int(leaf.count.text))\n",
    "\n",
    "print(sum(values))"
   ]
  },
  {
   "cell_type": "code",
   "execution_count": 4,
   "metadata": {
    "collapsed": false
   },
   "outputs": [
    {
     "name": "stdout",
     "output_type": "stream",
     "text": [
      "2393\n"
     ]
    }
   ],
   "source": [
    "# doing the same thing but using urllib - which is silly since etree.parse is all that is needed\n",
    "\n",
    "import urllib.request\n",
    "import pandas as pd\n",
    "from lxml import etree, objectify\n",
    "\n",
    "URL = 'http://python-data.dr-chuck.net/comments_42.xml'\n",
    "URL_real = 'http://python-data.dr-chuck.net/comments_371511.xml'\n",
    "\n",
    "xml = urllib.request.urlopen(URL_real)\n",
    "tree = etree.parse(xml)\n",
    "\n",
    "string =  etree.tostring(tree.getroot())\n",
    "root = objectify.fromstring(string)\n",
    "\n",
    "values = []\n",
    "for e in root.comments.comment:\n",
    "    #print(e.count.text)\n",
    "    values.append(int(e.count.text))\n",
    "\n",
    "print(sum(values))"
   ]
  },
  {
   "cell_type": "markdown",
   "metadata": {
    "collapsed": true
   },
   "source": [
    "# Working with JSON"
   ]
  },
  {
   "cell_type": "code",
   "execution_count": 5,
   "metadata": {
    "collapsed": false
   },
   "outputs": [
    {
     "name": "stdout",
     "output_type": "stream",
     "text": [
      "Name: Chuck\n",
      "Hide: yes\n"
     ]
    }
   ],
   "source": [
    "# working with what would be called a dicitionary within Python - but in JSON is an object\n",
    "\n",
    "import json\n",
    "\n",
    "data = '''\n",
    "{\n",
    "  \"name\" : \"Chuck\",\n",
    "  \"phone\" : {\n",
    "    \"type\" : \"intl\",\n",
    "    \"number\" : \"+1 734 303 4456\"\n",
    "   },\n",
    "   \"email\" : {\n",
    "     \"hide\" : \"yes\"\n",
    "   }\n",
    "}'''\n",
    "\n",
    "info = json.loads(data)\n",
    "print('Name:',info[\"name\"])\n",
    "print('Hide:',info[\"email\"][\"hide\"])"
   ]
  },
  {
   "cell_type": "code",
   "execution_count": 6,
   "metadata": {
    "collapsed": false
   },
   "outputs": [
    {
     "name": "stdout",
     "output_type": "stream",
     "text": [
      "User count: 2\n",
      "Name Chuck\n",
      "Id 001\n",
      "Attribute 2\n",
      "Name Chuck\n",
      "Id 009\n",
      "Attribute 7\n"
     ]
    }
   ],
   "source": [
    "# and here we use what would be called a list (of dictionaries) in Python - but in JSON is an array\n",
    "\n",
    "import json\n",
    "\n",
    "input = '''\n",
    "[\n",
    "  { \"id\" : \"001\",\n",
    "    \"x\" : \"2\",\n",
    "    \"name\" : \"Chuck\"\n",
    "  } ,\n",
    "  { \"id\" : \"009\",\n",
    "    \"x\" : \"7\",\n",
    "    \"name\" : \"Chuck\"\n",
    "  } \n",
    "]'''\n",
    "\n",
    "info = json.loads(input)\n",
    "print('User count:', len(info))\n",
    "\n",
    "for item in info:\n",
    "    print('Name', item['name'])\n",
    "    print('Id', item['id'])\n",
    "    print('Attribute', item['x'])"
   ]
  },
  {
   "cell_type": "markdown",
   "metadata": {},
   "source": [
    "## The Service Oriented Approach\n",
    "accessing API:s (Application Program Interfaces) in Python"
   ]
  },
  {
   "cell_type": "markdown",
   "metadata": {},
   "source": [
    "##### using the google geocode API"
   ]
  },
  {
   "cell_type": "code",
   "execution_count": 7,
   "metadata": {
    "collapsed": false
   },
   "outputs": [
    {
     "data": {
      "text/plain": [
       "'import urllib.request, urllib.parse, urllib.error\\nimport json\\n\\nserviceurl = \\'http://maps.googleapis.com/maps/api/geocode/json?\\'\\n\\nwhile True:\\n    #address = input(\\'Enter location: \\')\\n    address = \\'Ann Arbor, MI\\'\\n    if len(address) < 1: break\\n\\n    url = serviceurl + urllib.parse.urlencode({\\'address\\': address})\\n\\n    print(\\'Retrieving\\', url)\\n    uh = urllib.request.urlopen(url)\\n    data = uh.read().decode()\\n    print(\\'Retrieved\\', len(data), \\'characters\\')\\n\\n    try:\\n        js = json.loads(data)\\n    except:\\n        js = None\\n\\n    if not js or \\'status\\' not in js or js[\\'status\\'] != \\'OK\\':\\n        print(\\'==== Failure To Retrieve ====\\')\\n        print(data)\\n        continue\\n\\n    lat = js[\"results\"][0][\"geometry\"][\"location\"][\"lat\"]\\n    lng = js[\"results\"][0][\"geometry\"][\"location\"][\"lng\"]\\n    print(\\'lat\\', lat, \\'lng\\', lng)\\n    location = js[\\'results\\'][0][\\'formatted_address\\']\\n    print(location)\\n'"
      ]
     },
     "execution_count": 7,
     "metadata": {},
     "output_type": "execute_result"
    }
   ],
   "source": [
    "'''import urllib.request, urllib.parse, urllib.error\n",
    "import json\n",
    "\n",
    "serviceurl = 'http://maps.googleapis.com/maps/api/geocode/json?'\n",
    "\n",
    "while True:\n",
    "    #address = input('Enter location: ')\n",
    "    address = 'Ann Arbor, MI'\n",
    "    if len(address) < 1: break\n",
    "\n",
    "    url = serviceurl + urllib.parse.urlencode({'address': address})\n",
    "\n",
    "    print('Retrieving', url)\n",
    "    uh = urllib.request.urlopen(url)\n",
    "    data = uh.read().decode()\n",
    "    print('Retrieved', len(data), 'characters')\n",
    "\n",
    "    try:\n",
    "        js = json.loads(data)\n",
    "    except:\n",
    "        js = None\n",
    "\n",
    "    if not js or 'status' not in js or js['status'] != 'OK':\n",
    "        print('==== Failure To Retrieve ====')\n",
    "        print(data)\n",
    "        continue\n",
    "\n",
    "    lat = js[\"results\"][0][\"geometry\"][\"location\"][\"lat\"]\n",
    "    lng = js[\"results\"][0][\"geometry\"][\"location\"][\"lng\"]\n",
    "    print('lat', lat, 'lng', lng)\n",
    "    location = js['results'][0]['formatted_address']\n",
    "    print(location)\n",
    "'''"
   ]
  },
  {
   "cell_type": "markdown",
   "metadata": {},
   "source": [
    "##### using the Twitter API"
   ]
  },
  {
   "cell_type": "code",
   "execution_count": 8,
   "metadata": {
    "collapsed": false
   },
   "outputs": [
    {
     "data": {
      "text/plain": [
       "\"import urllib.request, urllib.parse, urllib.error\\nimport twurl\\nimport json\\n\\nTWITTER_URL = 'https://api.twitter.com/1.1/friends/list.json'\\n\\nwhile True:\\n    print('')\\n    acct = input('Enter Twitter Account:')\\n    if (len(acct) < 1): break\\n    url = twurl.augment(TWITTER_URL,\\n                        {'screen_name': acct, 'count': '5'})\\n    print('Retrieving', url)\\n    connection = urllib.request.urlopen(url)\\n    data = connection.read().decode()\\n    headers = dict(connection.getheaders())\\n    print('Remaining', headers['x-rate-limit-remaining'])\\n    js = json.loads(data)\\n    print(json.dumps(js, indent=4))\\n\\n    for u in js['users']:\\n        print(u['screen_name'])\\n        s = u['status']['text']\\n        print('  ', s[:50])\\n\""
      ]
     },
     "execution_count": 8,
     "metadata": {},
     "output_type": "execute_result"
    }
   ],
   "source": [
    "'''import urllib.request, urllib.parse, urllib.error\n",
    "import twurl\n",
    "import json\n",
    "\n",
    "TWITTER_URL = 'https://api.twitter.com/1.1/friends/list.json'\n",
    "\n",
    "while True:\n",
    "    print('')\n",
    "    acct = input('Enter Twitter Account:')\n",
    "    if (len(acct) < 1): break\n",
    "    url = twurl.augment(TWITTER_URL,\n",
    "                        {'screen_name': acct, 'count': '5'})\n",
    "    print('Retrieving', url)\n",
    "    connection = urllib.request.urlopen(url)\n",
    "    data = connection.read().decode()\n",
    "    headers = dict(connection.getheaders())\n",
    "    print('Remaining', headers['x-rate-limit-remaining'])\n",
    "    js = json.loads(data)\n",
    "    print(json.dumps(js, indent=4))\n",
    "\n",
    "    for u in js['users']:\n",
    "        print(u['screen_name'])\n",
    "        s = u['status']['text']\n",
    "        print('  ', s[:50])\n",
    "'''"
   ]
  },
  {
   "cell_type": "markdown",
   "metadata": {},
   "source": [
    "## Doing Assignment 2\n",
    "finding information in a JSON page"
   ]
  },
  {
   "cell_type": "code",
   "execution_count": 9,
   "metadata": {
    "collapsed": false
   },
   "outputs": [
    {
     "name": "stdout",
     "output_type": "stream",
     "text": [
      "User count: 2\n",
      "Name Chuck\n",
      "Id 001\n",
      "Attribute 2\n",
      "Name Chuck\n",
      "Id 009\n",
      "Attribute 7\n"
     ]
    }
   ],
   "source": [
    "# suggested code for inspiration\n",
    "\n",
    "import json\n",
    "from urllib.request import urlopen as uReq\n",
    "\n",
    "input = '''\n",
    "[\n",
    "  { \"id\" : \"001\",\n",
    "    \"x\" : \"2\",\n",
    "    \"name\" : \"Chuck\"\n",
    "  } ,\n",
    "  { \"id\" : \"009\",\n",
    "    \"x\" : \"7\",\n",
    "    \"name\" : \"Chuck\"\n",
    "  } \n",
    "]'''\n",
    "\n",
    "info = json.loads(input)\n",
    "print('User count:', len(info))\n",
    "\n",
    "for item in info:\n",
    "    print('Name', item['name'])\n",
    "    print('Id', item['id'])\n",
    "    print('Attribute', item['x'])\n"
   ]
  },
  {
   "cell_type": "code",
   "execution_count": 10,
   "metadata": {
    "collapsed": false
   },
   "outputs": [
    {
     "name": "stdout",
     "output_type": "stream",
     "text": [
      "2677\n"
     ]
    }
   ],
   "source": [
    "# solving the assignment\n",
    "import json\n",
    "from urllib.request import urlopen as uReq\n",
    "\n",
    "sample_data = 'http://python-data.dr-chuck.net/comments_42.json' #(Sum=2553)\n",
    "actual_data = 'http://python-data.dr-chuck.net/comments_371515.json' #(Sum ends with 77)\n",
    "\n",
    "# opening up connection, grabbing the page\n",
    "uClient = uReq(actual_data)\n",
    "page_json = uClient.read()\n",
    "uClient.close()\n",
    "\n",
    "# parse the data\n",
    "info = json.loads(page_json)\n",
    "\n",
    "# check if we have all the data\n",
    "#print('User count:', len(info['comments']))\n",
    "\n",
    "# loop over the data and collect the values\n",
    "values = []\n",
    "for item in info['comments']:\n",
    "    #print(item['count'])\n",
    "    values.append(item['count'])\n",
    "    \n",
    "print(sum(values))"
   ]
  },
  {
   "cell_type": "markdown",
   "metadata": {
    "collapsed": true
   },
   "source": [
    "## Doing assignment 3\n",
    "calling a JSON API"
   ]
  },
  {
   "cell_type": "code",
   "execution_count": 11,
   "metadata": {
    "collapsed": false
   },
   "outputs": [
    {
     "data": {
      "text/plain": [
       "'\\nimport urllib\\nimport json\\n\\n# serviceurl = \\'http://maps.googleapis.com/maps/api/geocode/json?\\'\\nserviceurl = \\'http://python-data.dr-chuck.net/geojson?\\'\\n\\nwhile True:\\n    address = raw_input(\\'Enter location: \\')\\n    if len(address) < 1 : break\\n\\n    url = serviceurl + urllib.urlencode({\\'sensor\\':\\'false\\', \\'address\\': address})\\n    print \\'Retrieving\\', url\\n    uh = urllib.urlopen(url)\\n    data = uh.read()\\n    print \\'Retrieved\\',len(data),\\'characters\\'\\n\\n    try: js = json.loads(str(data))\\n    except: js = None\\n    if \\'status\\' not in js or js[\\'status\\'] != \\'OK\\':\\n        print \\'==== Failure To Retrieve ====\\'\\n        print data\\n        continue\\n\\n    print json.dumps(js, indent=4)\\n\\n    lat = js[\"results\"][0][\"geometry\"][\"location\"][\"lat\"]\\n    lng = js[\"results\"][0][\"geometry\"][\"location\"][\"lng\"]\\n    print \\'lat\\',lat,\\'lng\\',lng\\n    location = js[\\'results\\'][0][\\'formatted_address\\']\\n    print location\\n'"
      ]
     },
     "execution_count": 11,
     "metadata": {},
     "output_type": "execute_result"
    }
   ],
   "source": [
    "# suggested inspirational code\n",
    "\n",
    "'''\n",
    "import urllib\n",
    "import json\n",
    "\n",
    "# serviceurl = 'http://maps.googleapis.com/maps/api/geocode/json?'\n",
    "serviceurl = 'http://python-data.dr-chuck.net/geojson?'\n",
    "\n",
    "while True:\n",
    "    address = raw_input('Enter location: ')\n",
    "    if len(address) < 1 : break\n",
    "\n",
    "    url = serviceurl + urllib.urlencode({'sensor':'false', 'address': address})\n",
    "    print 'Retrieving', url\n",
    "    uh = urllib.urlopen(url)\n",
    "    data = uh.read()\n",
    "    print 'Retrieved',len(data),'characters'\n",
    "\n",
    "    try: js = json.loads(str(data))\n",
    "    except: js = None\n",
    "    if 'status' not in js or js['status'] != 'OK':\n",
    "        print '==== Failure To Retrieve ===='\n",
    "        print data\n",
    "        continue\n",
    "\n",
    "    print json.dumps(js, indent=4)\n",
    "\n",
    "    lat = js[\"results\"][0][\"geometry\"][\"location\"][\"lat\"]\n",
    "    lng = js[\"results\"][0][\"geometry\"][\"location\"][\"lng\"]\n",
    "    print 'lat',lat,'lng',lng\n",
    "    location = js['results'][0]['formatted_address']\n",
    "    print location\n",
    "'''"
   ]
  },
  {
   "cell_type": "code",
   "execution_count": 27,
   "metadata": {
    "collapsed": false
   },
   "outputs": [
    {
     "name": "stdout",
     "output_type": "stream",
     "text": [
      "Retrieving http://python-data.dr-chuck.net/geojson?sensor=false&address=kansas+state+university\n",
      "Retrieved 1972 characters\n",
      "ChIJ39MaXcPguocRlRSBbdscXis\n"
     ]
    }
   ],
   "source": [
    "# solving the assignment\n",
    "import json\n",
    "from urllib.request import urlopen as uReq\n",
    "from urllib.parse import urlencode as uEncode\n",
    "\n",
    "# The program will prompt for a location\n",
    "#address = input('Enter location: ')\n",
    "address = 'kansas state university'\n",
    "\n",
    "# contact a web service and retrieve JSON for the web service and parse that data\n",
    "endpoint = 'http://python-data.dr-chuck.net/geojson?' # we use this API endpoint with a static subset of the Google Data:\n",
    "url = endpoint + uEncode({'sensor':'false', 'address': address})\n",
    "print('Retrieving', url)\n",
    "\n",
    "uClient = uReq(url)\n",
    "data = uClient.read()\n",
    "uClient.close()\n",
    "print('Retrieved',len(data),'characters')\n",
    "\n",
    "# and retrieve the first place_id from the JSON\n",
    "info = json.loads(data)\n",
    "place_id = info[\"results\"][0][\"place_id\"]\n",
    "print(place_id)\n"
   ]
  },
  {
   "cell_type": "code",
   "execution_count": null,
   "metadata": {
    "collapsed": true
   },
   "outputs": [],
   "source": []
  },
  {
   "cell_type": "code",
   "execution_count": null,
   "metadata": {
    "collapsed": true
   },
   "outputs": [],
   "source": []
  },
  {
   "cell_type": "code",
   "execution_count": null,
   "metadata": {
    "collapsed": true
   },
   "outputs": [],
   "source": []
  },
  {
   "cell_type": "code",
   "execution_count": null,
   "metadata": {
    "collapsed": true
   },
   "outputs": [],
   "source": []
  },
  {
   "cell_type": "code",
   "execution_count": null,
   "metadata": {
    "collapsed": true
   },
   "outputs": [],
   "source": []
  },
  {
   "cell_type": "code",
   "execution_count": null,
   "metadata": {
    "collapsed": true
   },
   "outputs": [],
   "source": []
  },
  {
   "cell_type": "code",
   "execution_count": null,
   "metadata": {
    "collapsed": true
   },
   "outputs": [],
   "source": []
  },
  {
   "cell_type": "code",
   "execution_count": null,
   "metadata": {
    "collapsed": true
   },
   "outputs": [],
   "source": []
  },
  {
   "cell_type": "code",
   "execution_count": null,
   "metadata": {
    "collapsed": true
   },
   "outputs": [],
   "source": []
  },
  {
   "cell_type": "code",
   "execution_count": null,
   "metadata": {
    "collapsed": true
   },
   "outputs": [],
   "source": []
  }
 ],
 "metadata": {
  "kernelspec": {
   "display_name": "Python 3",
   "language": "python",
   "name": "python3"
  },
  "language_info": {
   "codemirror_mode": {
    "name": "ipython",
    "version": 3
   },
   "file_extension": ".py",
   "mimetype": "text/x-python",
   "name": "python",
   "nbconvert_exporter": "python",
   "pygments_lexer": "ipython3",
   "version": "3.6.0"
  }
 },
 "nbformat": 4,
 "nbformat_minor": 2
}
