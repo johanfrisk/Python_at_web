{
 "cells": [
  {
   "cell_type": "code",
   "execution_count": 1,
   "metadata": {
    "collapsed": false
   },
   "outputs": [
    {
     "name": "stdout",
     "output_type": "stream",
     "text": [
      "Name: Chuck\n",
      "Attr: yes\n"
     ]
    }
   ],
   "source": [
    "# xml1.py\n",
    "# the triple quotes puts the xml data as a string\n",
    "\n",
    "import xml.etree.ElementTree as ET\n",
    "\n",
    "data = '''\n",
    "<person>\n",
    "  <name>Chuck</name>\n",
    "  <phone type=\"intl\">\n",
    "     +1 734 303 4456\n",
    "   </phone>\n",
    "   <email hide=\"yes\"/>\n",
    "</person>'''\n",
    "\n",
    "tree = ET.fromstring(data)\n",
    "print('Name:',tree.find('name').text)\n",
    "print('Attr:',tree.find('email').get('hide'))"
   ]
  },
  {
   "cell_type": "code",
   "execution_count": 2,
   "metadata": {
    "collapsed": false
   },
   "outputs": [
    {
     "name": "stdout",
     "output_type": "stream",
     "text": [
      "User count: 2\n",
      "Name Chuck\n",
      "Id 001\n",
      "Attribute 2\n",
      "Name Brent\n",
      "Id 009\n",
      "Attribute 7\n"
     ]
    }
   ],
   "source": [
    "# xml2.py\n",
    "# this one is more complicated since the are more complex tags\n",
    "\n",
    "import xml.etree.ElementTree as ET\n",
    "\n",
    "input = '''\n",
    "<stuff>\n",
    "    <users>\n",
    "        <user x=\"2\">\n",
    "            <id>001</id>\n",
    "            <name>Chuck</name>\n",
    "        </user>\n",
    "        <user x=\"7\">\n",
    "            <id>009</id>\n",
    "            <name>Brent</name>\n",
    "            </user>\n",
    "        </users>\n",
    "</stuff>'''\n",
    "\n",
    "stuff = ET.fromstring(input)\n",
    "lst = stuff.findall('users/user')\n",
    "print('User count:', len(lst))\n",
    "\n",
    "for item in lst:\n",
    "    print('Name', item.find('name').text)\n",
    "    print('Id', item.find('id').text)\n",
    "    print('Attribute', item.get(\"x\"))\n"
   ]
  },
  {
   "cell_type": "markdown",
   "metadata": {},
   "source": [
    "## Doing assignment 1\n",
    "This is an exercise in XML"
   ]
  },
  {
   "cell_type": "code",
   "execution_count": 4,
   "metadata": {
    "collapsed": false
   },
   "outputs": [
    {
     "ename": "TypeError",
     "evalue": "'str' object is not callable",
     "output_type": "error",
     "traceback": [
      "\u001b[0;31m---------------------------------------------------------------------------\u001b[0m",
      "\u001b[0;31mTypeError\u001b[0m                                 Traceback (most recent call last)",
      "\u001b[0;32m<ipython-input-4-f95325e6d52c>\u001b[0m in \u001b[0;36m<module>\u001b[0;34m()\u001b[0m\n\u001b[1;32m      7\u001b[0m \u001b[0;34m\u001b[0m\u001b[0m\n\u001b[1;32m      8\u001b[0m \u001b[0;32mwhile\u001b[0m \u001b[0;32mTrue\u001b[0m\u001b[0;34m:\u001b[0m\u001b[0;34m\u001b[0m\u001b[0m\n\u001b[0;32m----> 9\u001b[0;31m     \u001b[0maddress\u001b[0m \u001b[0;34m=\u001b[0m \u001b[0minput\u001b[0m\u001b[0;34m(\u001b[0m\u001b[0;34m'Enter location: '\u001b[0m\u001b[0;34m)\u001b[0m\u001b[0;34m\u001b[0m\u001b[0m\n\u001b[0m\u001b[1;32m     10\u001b[0m     \u001b[0;32mif\u001b[0m \u001b[0mlen\u001b[0m\u001b[0;34m(\u001b[0m\u001b[0maddress\u001b[0m\u001b[0;34m)\u001b[0m \u001b[0;34m<\u001b[0m \u001b[0;36m1\u001b[0m \u001b[0;34m:\u001b[0m \u001b[0;32mbreak\u001b[0m\u001b[0;34m\u001b[0m\u001b[0m\n\u001b[1;32m     11\u001b[0m \u001b[0;34m\u001b[0m\u001b[0m\n",
      "\u001b[0;31mTypeError\u001b[0m: 'str' object is not callable"
     ]
    }
   ],
   "source": [
    "# this is some example code\n",
    "\n",
    "import urllib.request\n",
    "import xml.etree.ElementTree as ET\n",
    "\n",
    "serviceurl = 'http://maps.googleapis.com/maps/api/geocode/xml?'\n",
    "\n",
    "while True:\n",
    "    address = input('Enter location: ')\n",
    "    if len(address) < 1 : break\n",
    "\n",
    "    url = serviceurl + urllib.request.urlencode({'sensor':'false', 'address': address})\n",
    "    print('Retrieving', url)\n",
    "    uh = urllib.request.urlopen(url)\n",
    "    data = uh.read()\n",
    "    print('Retrieved',len(data),'characters')\n",
    "    print(data)\n",
    "    tree = ET.fromstring(data)\n",
    "\n",
    "\n",
    "    results = tree.findall('result')\n",
    "    lat = results[0].find('geometry').find('location').find('lat').text\n",
    "    lng = results[0].find('geometry').find('location').find('lng').text\n",
    "    location = results[0].find('formatted_address').text\n",
    "\n",
    "    print('lat',lat,'lng',lng)\n",
    "    print(location)"
   ]
  },
  {
   "cell_type": "code",
   "execution_count": 45,
   "metadata": {
    "collapsed": false
   },
   "outputs": [
    {
     "name": "stdout",
     "output_type": "stream",
     "text": [
      "[<Element 'count' at 0x7f619002df48>, <Element 'count' at 0x7f61900ac548>, <Element 'count' at 0x7f6190023458>, <Element 'count' at 0x7f6190018d18>, <Element 'count' at 0x7f6190018278>, <Element 'count' at 0x7f6190018638>, <Element 'count' at 0x7f6181087ef8>, <Element 'count' at 0x7f6181087c78>, <Element 'count' at 0x7f6181087d18>, <Element 'count' at 0x7f61900b4048>, <Element 'count' at 0x7f61900b4138>, <Element 'count' at 0x7f61900b4228>, <Element 'count' at 0x7f61900b4318>, <Element 'count' at 0x7f61900b4408>, <Element 'count' at 0x7f61900b44f8>, <Element 'count' at 0x7f61900b45e8>, <Element 'count' at 0x7f61900b46d8>, <Element 'count' at 0x7f61900b47c8>, <Element 'count' at 0x7f61900b48b8>, <Element 'count' at 0x7f61900b49a8>, <Element 'count' at 0x7f61900b4a98>, <Element 'count' at 0x7f61900b4b88>, <Element 'count' at 0x7f61900b4c78>, <Element 'count' at 0x7f61900b4d68>, <Element 'count' at 0x7f61900b4e58>, <Element 'count' at 0x7f61900b4f48>, <Element 'count' at 0x7f61900c2098>, <Element 'count' at 0x7f61900c2188>, <Element 'count' at 0x7f61900c2278>, <Element 'count' at 0x7f61900c2368>, <Element 'count' at 0x7f61900c2458>, <Element 'count' at 0x7f61900c2548>, <Element 'count' at 0x7f61900c2638>, <Element 'count' at 0x7f61900c2728>, <Element 'count' at 0x7f61900c2818>, <Element 'count' at 0x7f61900c2908>, <Element 'count' at 0x7f61900c29f8>, <Element 'count' at 0x7f61900c2ae8>, <Element 'count' at 0x7f61900c2bd8>, <Element 'count' at 0x7f61900c2cc8>, <Element 'count' at 0x7f61900c2db8>, <Element 'count' at 0x7f61900c2ea8>, <Element 'count' at 0x7f61900c2f98>, <Element 'count' at 0x7f61810b50e8>, <Element 'count' at 0x7f61810b51d8>, <Element 'count' at 0x7f61810b52c8>, <Element 'count' at 0x7f61810b53b8>, <Element 'count' at 0x7f61810b54a8>, <Element 'count' at 0x7f61810b5598>, <Element 'count' at 0x7f61810b5688>]\n"
     ]
    }
   ],
   "source": [
    "import urllib.request\n",
    "import xml.etree.ElementTree as ET\n",
    "\n",
    "URL = 'http://python-data.dr-chuck.net/comments_42.xml'\n",
    "xml = urllib.request.urlopen(URL).read()\n",
    "tree = ET.fromstring(xml)\n",
    "\n",
    "counts = tree.findall('.//count')\n",
    "\n",
    "print(counts)\n"
   ]
  },
  {
   "cell_type": "code",
   "execution_count": 50,
   "metadata": {
    "collapsed": false
   },
   "outputs": [
    {
     "name": "stdout",
     "output_type": "stream",
     "text": [
      "[<Element 'count' at 0x7f6181039ae8>, <Element 'count' at 0x7f61810398b8>, <Element 'count' at 0x7f61810395e8>, <Element 'count' at 0x7f6181039548>, <Element 'count' at 0x7f6181039318>, <Element 'count' at 0x7f6181039278>, <Element 'count' at 0x7f6181039048>, <Element 'count' at 0x7f618109cbd8>, <Element 'count' at 0x7f618109cea8>, <Element 'count' at 0x7f618109cf48>, <Element 'count' at 0x7f618109cd18>, <Element 'count' at 0x7f618109cc78>, <Element 'count' at 0x7f619002df48>, <Element 'count' at 0x7f619010bc28>, <Element 'count' at 0x7f6190023458>, <Element 'count' at 0x7f61900acdb8>, <Element 'count' at 0x7f6190018638>, <Element 'count' at 0x7f61900182c8>, <Element 'count' at 0x7f6190018a48>, <Element 'count' at 0x7f6181087db8>, <Element 'count' at 0x7f6181087e58>, <Element 'count' at 0x7f61900b48b8>, <Element 'count' at 0x7f61900b4228>, <Element 'count' at 0x7f61900b4c28>, <Element 'count' at 0x7f61900b4728>, <Element 'count' at 0x7f61900b43b8>, <Element 'count' at 0x7f61900b41d8>, <Element 'count' at 0x7f61900b42c8>, <Element 'count' at 0x7f61900b4548>, <Element 'count' at 0x7f61900b4638>, <Element 'count' at 0x7f61900b4a48>, <Element 'count' at 0x7f61900b4b38>, <Element 'count' at 0x7f61900b4db8>, <Element 'count' at 0x7f61900b4ea8>, <Element 'count' at 0x7f61900c2b38>, <Element 'count' at 0x7f61900c27c8>, <Element 'count' at 0x7f61900c22c8>, <Element 'count' at 0x7f61900c20e8>, <Element 'count' at 0x7f61900c21d8>, <Element 'count' at 0x7f61900c25e8>, <Element 'count' at 0x7f61900c26d8>, <Element 'count' at 0x7f61900c2958>, <Element 'count' at 0x7f61900c2a48>, <Element 'count' at 0x7f61900c2e58>, <Element 'count' at 0x7f61810b5a98>, <Element 'count' at 0x7f61810b5c28>, <Element 'count' at 0x7f61810b5278>, <Element 'count' at 0x7f61810b5728>, <Element 'count' at 0x7f61810b2c78>, <Element 'count' at 0x7f61810b2d68>]\n"
     ]
    }
   ],
   "source": [
    "import xml.etree.ElementTree as ET\n",
    "import urllib.request\n",
    "\n",
    "URL = 'http://python-data.dr-chuck.net/comments_42.xml'\n",
    "xml = urllib.request.urlopen(URL)#.read()\n",
    "tree = ET.parse(xml)\n",
    "root = tree.getroot()\n",
    "\n",
    "counts = root.findall('.//count')\n",
    "\n",
    "print(counts)"
   ]
  },
  {
   "cell_type": "code",
   "execution_count": null,
   "metadata": {
    "collapsed": true
   },
   "outputs": [],
   "source": []
  },
  {
   "cell_type": "code",
   "execution_count": null,
   "metadata": {
    "collapsed": true
   },
   "outputs": [],
   "source": []
  },
  {
   "cell_type": "code",
   "execution_count": null,
   "metadata": {
    "collapsed": true
   },
   "outputs": [],
   "source": []
  }
 ],
 "metadata": {
  "kernelspec": {
   "display_name": "Python 3",
   "language": "python",
   "name": "python3"
  },
  "language_info": {
   "codemirror_mode": {
    "name": "ipython",
    "version": 3
   },
   "file_extension": ".py",
   "mimetype": "text/x-python",
   "name": "python",
   "nbconvert_exporter": "python",
   "pygments_lexer": "ipython3",
   "version": "3.6.0"
  }
 },
 "nbformat": 4,
 "nbformat_minor": 2
}
