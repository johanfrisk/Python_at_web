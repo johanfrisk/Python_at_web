{
 "cells": [
  {
   "cell_type": "code",
   "execution_count": 1,
   "metadata": {
    "collapsed": false
   },
   "outputs": [
    {
     "name": "stdout",
     "output_type": "stream",
     "text": [
      "Name: Chuck\n",
      "Attr: yes\n"
     ]
    }
   ],
   "source": [
    "# xml1.py\n",
    "# the triple quotes puts the xml data as a string\n",
    "\n",
    "import xml.etree.ElementTree as ET\n",
    "\n",
    "data = '''\n",
    "<person>\n",
    "  <name>Chuck</name>\n",
    "  <phone type=\"intl\">\n",
    "     +1 734 303 4456\n",
    "   </phone>\n",
    "   <email hide=\"yes\"/>\n",
    "</person>'''\n",
    "\n",
    "tree = ET.fromstring(data)\n",
    "print('Name:',tree.find('name').text)\n",
    "print('Attr:',tree.find('email').get('hide'))"
   ]
  },
  {
   "cell_type": "code",
   "execution_count": 2,
   "metadata": {
    "collapsed": false
   },
   "outputs": [
    {
     "name": "stdout",
     "output_type": "stream",
     "text": [
      "User count: 2\n",
      "Name Chuck\n",
      "Id 001\n",
      "Attribute 2\n",
      "Name Brent\n",
      "Id 009\n",
      "Attribute 7\n"
     ]
    }
   ],
   "source": [
    "# xml2.py\n",
    "# this one is more complicated since the are more complex tags\n",
    "\n",
    "import xml.etree.ElementTree as ET\n",
    "\n",
    "input = '''\n",
    "<stuff>\n",
    "    <users>\n",
    "        <user x=\"2\">\n",
    "            <id>001</id>\n",
    "            <name>Chuck</name>\n",
    "        </user>\n",
    "        <user x=\"7\">\n",
    "            <id>009</id>\n",
    "            <name>Brent</name>\n",
    "            </user>\n",
    "        </users>\n",
    "</stuff>'''\n",
    "\n",
    "stuff = ET.fromstring(input)\n",
    "lst = stuff.findall('users/user')\n",
    "print('User count:', len(lst))\n",
    "\n",
    "for item in lst:\n",
    "    print('Name', item.find('name').text)\n",
    "    print('Id', item.find('id').text)\n",
    "    print('Attribute', item.get(\"x\"))\n"
   ]
  },
  {
   "cell_type": "markdown",
   "metadata": {},
   "source": [
    "## Doing assignment 1\n",
    "This is an exercise in XML"
   ]
  },
  {
   "cell_type": "code",
   "execution_count": 11,
   "metadata": {
    "collapsed": false
   },
   "outputs": [
    {
     "name": "stdout",
     "output_type": "stream",
     "text": [
      "2553\n"
     ]
    }
   ],
   "source": [
    "# http://www.saltycrane.com/blog/2011/07/example-parsing-xml-lxml-objectify/\n",
    "\n",
    "import pandas as pd\n",
    "from lxml import etree, objectify\n",
    "\n",
    "URL = 'http://python-data.dr-chuck.net/comments_42.xml'\n",
    "URL_real = 'http://python-data.dr-chuck.net/comments_371511.xml'\n",
    "\n",
    "tree = etree.parse(URL)\n",
    "string =  etree.tostring(tree.getroot())\n",
    "root = objectify.fromstring(string)\n",
    "\n",
    "values = []\n",
    "for leaf in root.comments.comment:\n",
    "    #print(e.count.text)\n",
    "    values.append(int(leaf.count.text))\n",
    "\n",
    "print(sum(values))"
   ]
  },
  {
   "cell_type": "code",
   "execution_count": 10,
   "metadata": {
    "collapsed": false
   },
   "outputs": [
    {
     "name": "stdout",
     "output_type": "stream",
     "text": [
      "2393\n"
     ]
    }
   ],
   "source": [
    "# doing the same thing but using urllib\n",
    "\n",
    "import urllib.request\n",
    "import pandas as pd\n",
    "from lxml import etree, objectify\n",
    "\n",
    "URL = 'http://python-data.dr-chuck.net/comments_42.xml'\n",
    "URL_real = 'http://python-data.dr-chuck.net/comments_371511.xml'\n",
    "\n",
    "xml = urllib.request.urlopen(URL_real)\n",
    "tree = etree.parse(xml)\n",
    "\n",
    "string =  etree.tostring(tree.getroot())\n",
    "root = objectify.fromstring(string)\n",
    "\n",
    "values = []\n",
    "for e in root.comments.comment:\n",
    "    #print(e.count.text)\n",
    "    values.append(int(e.count.text))\n",
    "\n",
    "print(sum(values))"
   ]
  },
  {
   "cell_type": "code",
   "execution_count": null,
   "metadata": {
    "collapsed": true
   },
   "outputs": [],
   "source": []
  }
 ],
 "metadata": {
  "kernelspec": {
   "display_name": "Python 3",
   "language": "python",
   "name": "python3"
  },
  "language_info": {
   "codemirror_mode": {
    "name": "ipython",
    "version": 3
   },
   "file_extension": ".py",
   "mimetype": "text/x-python",
   "name": "python",
   "nbconvert_exporter": "python",
   "pygments_lexer": "ipython3",
   "version": "3.6.0"
  }
 },
 "nbformat": 4,
 "nbformat_minor": 2
}
