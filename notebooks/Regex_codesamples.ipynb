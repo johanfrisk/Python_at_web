{
 "cells": [
  {
   "cell_type": "code",
   "execution_count": 4,
   "metadata": {
    "collapsed": false
   },
   "outputs": [
    {
     "ename": "SyntaxError",
     "evalue": "Missing parentheses in call to 'print' (<ipython-input-4-6ce93c063507>, line 8)",
     "output_type": "error",
     "traceback": [
      "\u001b[0;36m  File \u001b[0;32m\"<ipython-input-4-6ce93c063507>\"\u001b[0;36m, line \u001b[0;32m8\u001b[0m\n\u001b[0;31m    print line\u001b[0m\n\u001b[0m             ^\u001b[0m\n\u001b[0;31mSyntaxError\u001b[0m\u001b[0;31m:\u001b[0m Missing parentheses in call to 'print'\n"
     ]
    }
   ],
   "source": [
    "import re\n",
    "# line.rstrip() to strip characters at the end\n",
    "\n",
    "hand = open('mbox-short.txt')\n",
    "for line in hand:\n",
    "    line = line.rstrip()\n",
    "    if re.search('^From:', line) :\n",
    "        print line"
   ]
  },
  {
   "cell_type": "code",
   "execution_count": 5,
   "metadata": {
    "collapsed": false
   },
   "outputs": [
    {
     "name": "stdout",
     "output_type": "stream",
     "text": [
      "['2', '19', '42']\n"
     ]
    }
   ],
   "source": [
    "import re\n",
    "x = 'My 2 favorite numbers are 19 and 42'\n",
    "y = re.findall('[0-9]+', x)\n",
    "print(y)"
   ]
  },
  {
   "cell_type": "code",
   "execution_count": 6,
   "metadata": {
    "collapsed": false
   },
   "outputs": [
    {
     "name": "stdout",
     "output_type": "stream",
     "text": [
      "[]\n"
     ]
    }
   ],
   "source": [
    "import re\n",
    "x = 'My 2 favorite numbers are 19 and 42'\n",
    "y = re.findall('[AEIOU]+', x)\n",
    "print(y)"
   ]
  },
  {
   "cell_type": "code",
   "execution_count": 16,
   "metadata": {
    "collapsed": false
   },
   "outputs": [
    {
     "name": "stdout",
     "output_type": "stream",
     "text": [
      "['rd@uct.ac.za S']\n",
      "['@uct.ac.za']\n",
      "['From stephen.marquard@uct.ac.za Sat Jan  5 09:14:']\n",
      "['uct.ac.za']\n"
     ]
    }
   ],
   "source": [
    "import re\n",
    "line = 'From stephen.marquard@uct.ac.za Sat Jan  5 09:14:16 2008'\n",
    "\n",
    "x = re.findall('..@\\S+..', line)\n",
    "print(x)\n",
    "\n",
    "y = re.findall('@\\S+', line)\n",
    "print(y)\n",
    "\n",
    "z = re.findall('F.+:', line)\n",
    "print(z)\n",
    "\n",
    "r = re.findall('@(\\S+)', line)\n",
    "print(r)\n"
   ]
  },
  {
   "cell_type": "code",
   "execution_count": 18,
   "metadata": {
    "collapsed": false
   },
   "outputs": [
    {
     "name": "stdout",
     "output_type": "stream",
     "text": [
      "['From: Using the :']\n"
     ]
    }
   ],
   "source": [
    "x = 'From: Using the : character'\n",
    "y = re.findall('^F.+:', x)\n",
    "print(y)"
   ]
  },
  {
   "cell_type": "code",
   "execution_count": 19,
   "metadata": {
    "collapsed": false
   },
   "outputs": [
    {
     "name": "stdout",
     "output_type": "stream",
     "text": [
      "['stephen.marquard@uct.ac.za']\n"
     ]
    }
   ],
   "source": [
    "import re\n",
    "line = 'From stephen.marquard@uct.ac.za Sat Jan  5 09:14:16 2008'\n",
    "x = re.findall('\\S+?@\\S+', line)\n",
    "print(x)"
   ]
  },
  {
   "cell_type": "markdown",
   "metadata": {
    "collapsed": true
   },
   "source": [
    "## Python Regular Expression Quick Guide\n",
    "\n",
    "^        Matches the beginning of a line\n",
    "\n",
    "$        Matches the end of the line\n",
    "\n",
    ".        Matches any character\n",
    "\n",
    "\\s       Matches whitespace\n",
    "\n",
    "\\S       Matches any non-whitespace character\n",
    "\n",
    "*        Repeats a character zero or more times\n",
    "\n",
    "*?       Repeats a character zero or more times(non-greedy)\n",
    "\n",
    "+        Repeats a character one or more times\n",
    "\n",
    "+?       Repeats a character one or more times(non-greedy)\n",
    "\n",
    "[aeiou]  Matches a single character in the listed set\n",
    "\n",
    "[^XYZ]   Matches a single character not in the listed set\n",
    "\n",
    "[a-z0-9] The set of characters can include a range\n",
    "\n",
    "(        Indicates where string extraction is to start\n",
    "\n",
    ")        Indicates where string extraction is to end\n"
   ]
  },
  {
   "cell_type": "markdown",
   "metadata": {},
   "source": [
    "# Trying to solve the assignment with the sample data"
   ]
  },
  {
   "cell_type": "code",
   "execution_count": 58,
   "metadata": {
    "collapsed": false
   },
   "outputs": [
    {
     "data": {
      "text/plain": [
       "445822"
      ]
     },
     "execution_count": 58,
     "metadata": {},
     "output_type": "execute_result"
    }
   ],
   "source": [
    "# using the sample data to verify the code\n",
    "\n",
    "import urllib.request\n",
    "import re\n",
    "\n",
    "sample_url = 'http://python-data.dr-chuck.net/regex_sum_42.txt'\n",
    "\n",
    "with urllib.request.urlopen(sample_url) as response:\n",
    "   html = response.read()\n",
    "\n",
    "html_string = str(html)\n",
    "numbers = re.findall('[0-9]+', html_string)\n",
    "\n",
    "intlist = [int(x) for x in numbers]\n",
    "\n",
    "len(intlist)\n",
    "sum(intlist)"
   ]
  },
  {
   "cell_type": "code",
   "execution_count": 61,
   "metadata": {
    "collapsed": false
   },
   "outputs": [
    {
     "data": {
      "text/plain": [
       "413003"
      ]
     },
     "execution_count": 61,
     "metadata": {},
     "output_type": "execute_result"
    }
   ],
   "source": [
    "# using the actual data to calculate the answer\n",
    "\n",
    "import urllib.request\n",
    "import re\n",
    "\n",
    "actual_url = 'http://python-data.dr-chuck.net/regex_sum_371509.txt'\n",
    "\n",
    "with urllib.request.urlopen(actual_url) as response:\n",
    "   html = response.read()\n",
    "\n",
    "html_string = str(html)\n",
    "numbers = re.findall('[0-9]+', html_string)\n",
    "\n",
    "intlist = [int(x) for x in numbers]\n",
    "\n",
    "#len(intlist)\n",
    "sum(intlist)"
   ]
  },
  {
   "cell_type": "code",
   "execution_count": null,
   "metadata": {
    "collapsed": true
   },
   "outputs": [],
   "source": []
  },
  {
   "cell_type": "code",
   "execution_count": null,
   "metadata": {
    "collapsed": true
   },
   "outputs": [],
   "source": []
  },
  {
   "cell_type": "code",
   "execution_count": null,
   "metadata": {
    "collapsed": true
   },
   "outputs": [],
   "source": []
  },
  {
   "cell_type": "code",
   "execution_count": null,
   "metadata": {
    "collapsed": true
   },
   "outputs": [],
   "source": []
  },
  {
   "cell_type": "code",
   "execution_count": null,
   "metadata": {
    "collapsed": true
   },
   "outputs": [],
   "source": []
  }
 ],
 "metadata": {
  "kernelspec": {
   "display_name": "Python 3",
   "language": "python",
   "name": "python3"
  },
  "language_info": {
   "codemirror_mode": {
    "name": "ipython",
    "version": 3
   },
   "file_extension": ".py",
   "mimetype": "text/x-python",
   "name": "python",
   "nbconvert_exporter": "python",
   "pygments_lexer": "ipython3",
   "version": "3.6.0"
  }
 },
 "nbformat": 4,
 "nbformat_minor": 2
}
