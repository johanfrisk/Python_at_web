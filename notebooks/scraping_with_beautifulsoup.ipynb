{
 "cells": [
  {
   "cell_type": "code",
   "execution_count": null,
   "metadata": {
    "collapsed": true
   },
   "outputs": [],
   "source": [
    "# https://datasciencedojo.com/web-scraping-30-minutes/\n",
    "# https://vimeo.com/209499033"
   ]
  },
  {
   "cell_type": "code",
   "execution_count": 1,
   "metadata": {
    "collapsed": false
   },
   "outputs": [
    {
     "data": {
      "text/html": [
       "<iframe src=\"https://player.vimeo.com/video/209499033?title=0&byline=0&portrait=0\" width=\"700\" height=\"394\" frameborder=\"0\" webkitallowfullscreen mozallowfullscreen allowfullscreen>"
      ],
      "text/plain": [
       "<IPython.core.display.HTML object>"
      ]
     },
     "execution_count": 1,
     "metadata": {},
     "output_type": "execute_result"
    }
   ],
   "source": [
    "from IPython.display import HTML\n",
    "\n",
    "# Vimeo\n",
    "HTML('<iframe src=\"https://player.vimeo.com/video/209499033?title=0&byline=0&portrait=0\" width=\"700\" height=\"394\" frameborder=\"0\" webkitallowfullscreen mozallowfullscreen allowfullscreen>')\n",
    "\n",
    "# Youtube\n",
    "#HTML('<iframe width=\"560\" height=\"315\" src=\"https://www.youtube.com/embed/S_f2qV2_U00?rel=0&amp;controls=0&amp;showinfo=0\" frameborder=\"0\" allowfullscreen></iframe>')\n"
   ]
  },
  {
   "cell_type": "code",
   "execution_count": 43,
   "metadata": {
    "collapsed": false
   },
   "outputs": [
    {
     "name": "stdout",
     "output_type": "stream",
     "text": [
      "brand: GIGABYTE\n",
      "product_name: GIGABYTE GeForce GTX 1050 Ti DirectX 12 GV-N105TWF2OC-4GD Video Card\n",
      "shipping: $4.99 Shipping\n",
      "brand: EVGA\n",
      "product_name: EVGA GeForce GTX 1060 GAMING DirectX 12 06G-P4-6262-KR Video Card\n",
      "shipping: $4.99 Shipping\n",
      "brand: ASUS\n",
      "product_name: ASUS ROG GeForce GTX 1070 STRIX-GTX1070-O8G-GAMING Video Card with RGB Lighting\n",
      "shipping: $3.99 Shipping\n",
      "brand: MSI\n",
      "product_name: MSI GeForce GTX 1070 DirectX 12 GeForce GTX 1070 Quick Silver 8G OC Video Card\n",
      "shipping: Free Shipping\n",
      "brand: XFX\n",
      "product_name: XFX Radeon RX 550 DirectX 12 RX-550P4TFG5 Video Card\n",
      "shipping: $3.99 Shipping\n",
      "brand: ZOTAC\n",
      "product_name: ZOTAC GeForce GTX 1080 Ti AMP Edition 11GB GDDR5X 352-bit Gaming Graphics Card VR Ready 16+2 Power Phase Freeze Fan Stop IceStorm Cooling Spectra Lighting ZT-P10810D-10P\n",
      "shipping: Free Shipping\n",
      "brand: EVGA\n",
      "product_name: EVGA GeForce GTX 1070 SC GAMING ACX 3.0 Black Edition, 08G-P4-5173-KR, 8GB GDDR5, LED, DX12 OSD Support (PXOC)\n",
      "shipping: $4.99 Shipping\n",
      "brand: GIGABYTE\n",
      "product_name: GIGABYTE Radeon RX 460 DirectX 12 GV-RX460WF2OC-4GD Video Card\n",
      "shipping: Free Shipping\n",
      "brand: XFX\n",
      "product_name: XFX Radeon RX 460 DirectX 12 RX-460P4DFG5 Video Card\n",
      "shipping: $3.99 Shipping\n",
      "brand: MSI\n",
      "product_name: MSI Radeon RX 550 DirectX 12 RX 550 AERO ITX 2G O 2GB 128-Bit GDDR5 PCI Express x16 (uses x8) HDCP Ready Video Card\n",
      "shipping: $3.99 Shipping\n",
      "brand: ZOTAC\n",
      "product_name: ZOTAC GeForce GTX 1080 Ti AMP Extreme 11GB GDDR5X 352-bit Gaming Graphics Card VR Ready 16+2 Power Phase Freeze Fan Stop IceStorm Cooling Spectra Lighting ZT-P10810C-10P\n",
      "shipping: $4.99 Shipping\n",
      "brand: ASUS\n",
      "product_name: ASUS GeForce GTX 1060 DUAL-GTX1060-O3G Video Card\n",
      "shipping: $3.99 Shipping\n"
     ]
    }
   ],
   "source": [
    "# following along with tutorial in the video above\n",
    "from urllib.request import urlopen as uReq\n",
    "from bs4 import BeautifulSoup as soup\n",
    "\n",
    "my_url = 'https://www.newegg.com/Video-Cards-Video-Devices/Category/ID-38'\n",
    "\n",
    "# opening up connection, grabbing the page\n",
    "uClient = uReq(my_url)\n",
    "page_html = uClient.read()\n",
    "uClient.close()\n",
    "\n",
    "# html parsing\n",
    "page_soup = soup(page_html, \"html.parser\")\n",
    "\n",
    "# just checking if the data is in place and if I can read the header one\n",
    "page_soup.h1\n",
    "# or maybe the p tag\n",
    "page_soup.p\n",
    "page_soup.body.span\n",
    "\n",
    "# use inspect in the browser to find the tag with the info on grapic cards\n",
    "# first I find how to get the info on one card (the whole container), then I loop trough all the others\n",
    "containers = page_soup.findAll('div', {'class':'item-container'})\n",
    "# how many containers did we find?\n",
    "'''len(containers)'''\n",
    "# look at the first one\n",
    "'''containers[0]'''\n",
    "\n",
    "# to understand better - paste the output from container 1 into jsbeautifier.org\n",
    "# follow the prettified html to the data I want to extract\n",
    "'''container = containers[0]'''\n",
    "# in this case the name of the board is in the image title within the a tag within div within the first div...\n",
    "'''container.div.div.a.img['title']'''\n",
    "\n",
    "# this is the last step - throw everything into a csv\n",
    "filename = 'products.csv'\n",
    "f = open(filename, 'w') # w for write\n",
    "headers = 'brand, product_name, shipping\\n'\n",
    "f.write(headers)\n",
    "\n",
    "# now use what we did to create a loop\n",
    "for container in containers:\n",
    "    brand = container.div.div.a.img['title']\n",
    "    \n",
    "    title_container = container.findAll('a', {'class' : 'item-title'})\n",
    "    product_name = title_container[0].text\n",
    "    \n",
    "    shipping_container = container.findAll('li', {'class' : 'price-ship'})\n",
    "    shipping = shipping_container[0].text.strip()\n",
    "    \n",
    "    print('brand: ' + brand)\n",
    "    print('product_name: ' + product_name)\n",
    "    print('shipping: ' + shipping)\n",
    "    \n",
    "    f.write(brand + ',' + product_name.replace(',', '|') + ',' + shipping + '\\n') # replace commas in the text with pipes\n",
    "    \n",
    "f.close() # if we don't close the file we can't open it..."
   ]
  },
  {
   "cell_type": "code",
   "execution_count": 45,
   "metadata": {
    "collapsed": false
   },
   "outputs": [
    {
     "data": {
      "text/html": [
       "<div>\n",
       "<table border=\"1\" class=\"dataframe\">\n",
       "  <thead>\n",
       "    <tr style=\"text-align: right;\">\n",
       "      <th></th>\n",
       "      <th>brand</th>\n",
       "      <th>product_name</th>\n",
       "      <th>shipping</th>\n",
       "    </tr>\n",
       "  </thead>\n",
       "  <tbody>\n",
       "    <tr>\n",
       "      <th>0</th>\n",
       "      <td>GIGABYTE</td>\n",
       "      <td>GIGABYTE GeForce GTX 1050 Ti DirectX 12 GV-N10...</td>\n",
       "      <td>$4.99 Shipping</td>\n",
       "    </tr>\n",
       "    <tr>\n",
       "      <th>1</th>\n",
       "      <td>EVGA</td>\n",
       "      <td>EVGA GeForce GTX 1060 GAMING DirectX 12 06G-P4...</td>\n",
       "      <td>$4.99 Shipping</td>\n",
       "    </tr>\n",
       "    <tr>\n",
       "      <th>2</th>\n",
       "      <td>ASUS</td>\n",
       "      <td>ASUS ROG GeForce GTX 1070 STRIX-GTX1070-O8G-GA...</td>\n",
       "      <td>$3.99 Shipping</td>\n",
       "    </tr>\n",
       "    <tr>\n",
       "      <th>3</th>\n",
       "      <td>MSI</td>\n",
       "      <td>MSI GeForce GTX 1070 DirectX 12 GeForce GTX 10...</td>\n",
       "      <td>Free Shipping</td>\n",
       "    </tr>\n",
       "    <tr>\n",
       "      <th>4</th>\n",
       "      <td>XFX</td>\n",
       "      <td>XFX Radeon RX 550 DirectX 12 RX-550P4TFG5 Vide...</td>\n",
       "      <td>$3.99 Shipping</td>\n",
       "    </tr>\n",
       "  </tbody>\n",
       "</table>\n",
       "</div>"
      ],
      "text/plain": [
       "      brand                                       product_name        shipping\n",
       "0  GIGABYTE  GIGABYTE GeForce GTX 1050 Ti DirectX 12 GV-N10...  $4.99 Shipping\n",
       "1      EVGA  EVGA GeForce GTX 1060 GAMING DirectX 12 06G-P4...  $4.99 Shipping\n",
       "2      ASUS  ASUS ROG GeForce GTX 1070 STRIX-GTX1070-O8G-GA...  $3.99 Shipping\n",
       "3       MSI  MSI GeForce GTX 1070 DirectX 12 GeForce GTX 10...   Free Shipping\n",
       "4       XFX  XFX Radeon RX 550 DirectX 12 RX-550P4TFG5 Vide...  $3.99 Shipping"
      ]
     },
     "execution_count": 45,
     "metadata": {},
     "output_type": "execute_result"
    }
   ],
   "source": [
    "import pandas as pd\n",
    "df_products = pd.read_csv('products.csv')\n",
    "df_products.head()"
   ]
  },
  {
   "cell_type": "code",
   "execution_count": 1,
   "metadata": {
    "collapsed": true
   },
   "outputs": [],
   "source": [
    "from bs4 import BeautifulSoup as soup  # HTML data structure\n",
    "from urllib.request import urlopen as uReq  # Web client\n",
    "\n",
    "# URl to web scrap from.\n",
    "# in this example we web scrap graphics cards from Newegg.com\n",
    "page_url = \"http://www.newegg.com/Product/ProductList.aspx?Submit=ENE&N=-1&IsNodeId=1&Description=GTX&bop=And&Page=1&PageSize=36&order=BESTMATCH\"\n",
    "\n",
    "# opens the connection and downloads html page from url\n",
    "uClient = uReq(page_url)\n",
    "\n",
    "# parses html into a soup data structure to traverse html\n",
    "# as if it were a json data type.\n",
    "page_soup = soup(uClient.read(), \"html.parser\")\n",
    "uClient.close()\n",
    "\n",
    "# finds each product from the store page\n",
    "containers = page_soup.findAll(\"div\", {\"class\": \"item-container\"})\n",
    "\n",
    "# name the output file to write to local disk\n",
    "out_filename = \"graphics_cards.csv\"\n",
    "# header of csv file to be written\n",
    "headers = \"brand,product_name,shipping\\n\"\n",
    "\n",
    "# opens file, and writes headers\n",
    "f = open(out_filename, \"w\")\n",
    "f.write(headers)\n",
    "\n",
    "# loops over each product and grabs attributes about\n",
    "# each product\n",
    "for container in containers:\n",
    "    # Finds all link tags \"a\" from within the first div.\n",
    "    make_rating_sp = container.div.select(\"a\")\n",
    "\n",
    "    # Grabs the title from the image title attribute\n",
    "    # Then does proper casing using .title()\n",
    "    brand = make_rating_sp[0].img[\"title\"].title()\n",
    "\n",
    "    # Grabs the text within the second \"(a)\" tag from within\n",
    "    # the list of queries.\n",
    "    product_name = container.div.select(\"a\")[2].text\n",
    "\n",
    "    # Grabs the product shipping information by searching\n",
    "    # all lists with the class \"price-ship\".\n",
    "    # Then cleans the text of white space with strip()\n",
    "    # Cleans the strip of \"Shipping $\" if it exists to just get number\n",
    "    shipping = container.findAll(\"li\", {\"class\": \"price-ship\"})[0].text.strip().replace(\"$\", \"\").replace(\" Shipping\", \"\")\n",
    "\n",
    "    # prints the dataset to console\n",
    "    print(\"brand: \" + brand + \"\\n\")\n",
    "    print(\"product_name: \" + product_name + \"\\n\")\n",
    "    print(\"shipping: \" + shipping + \"\\n\")\n",
    "\n",
    "    # writes the dataset to file\n",
    "    f.write(brand + \", \" + product_name.replace(\",\", \"|\") + \", \" + shipping + \"\\n\")\n",
    "\n",
    "f.close()  # Close the file"
   ]
  },
  {
   "cell_type": "code",
   "execution_count": null,
   "metadata": {
    "collapsed": true
   },
   "outputs": [],
   "source": []
  },
  {
   "cell_type": "code",
   "execution_count": null,
   "metadata": {
    "collapsed": true
   },
   "outputs": [],
   "source": []
  },
  {
   "cell_type": "code",
   "execution_count": null,
   "metadata": {
    "collapsed": true
   },
   "outputs": [],
   "source": []
  },
  {
   "cell_type": "code",
   "execution_count": null,
   "metadata": {
    "collapsed": true
   },
   "outputs": [],
   "source": []
  },
  {
   "cell_type": "code",
   "execution_count": null,
   "metadata": {
    "collapsed": true
   },
   "outputs": [],
   "source": []
  },
  {
   "cell_type": "code",
   "execution_count": null,
   "metadata": {
    "collapsed": true
   },
   "outputs": [],
   "source": []
  }
 ],
 "metadata": {
  "kernelspec": {
   "display_name": "Python 3",
   "language": "python",
   "name": "python3"
  },
  "language_info": {
   "codemirror_mode": {
    "name": "ipython",
    "version": 3
   },
   "file_extension": ".py",
   "mimetype": "text/x-python",
   "name": "python",
   "nbconvert_exporter": "python",
   "pygments_lexer": "ipython3",
   "version": "3.6.0"
  }
 },
 "nbformat": 4,
 "nbformat_minor": 2
}
